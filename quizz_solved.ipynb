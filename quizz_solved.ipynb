{
 "cells": [
  {
   "cell_type": "code",
   "execution_count": 1,
   "metadata": {},
   "outputs": [
    {
     "name": "stdout",
     "output_type": "stream",
     "text": [
      "Let's play a game!!!\n",
      "What is the capital of Portugal ? Lisboa\n",
      "In which year the 2 WW was over ? 1879\n",
      "Damm!! You have 2 chances\n",
      "In which year the 2WW was over ? 1878\n",
      "Damm!! You have 1 chances\n",
      "In which year the 2WW was over ? 1945\n",
      "tell me the decimal part of pi with first 4 digits ? 0.1415\n",
      "Bravo ! You won!!\n"
     ]
    }
   ],
   "source": [
    "nb_de_chances = 3\n",
    "\n",
    "print(\"Let's play a game!!!\")\n",
    "question1= input(\"What is the capital of Portugal ? \")\n",
    "question1= question1.lower()\n",
    "while question1 != \"lisboa\":\n",
    "    nb_de_chances -= 1\n",
    "    print(\"Damm!! You have {} chances\".format(nb_de_chances))\n",
    "    if nb_de_chances == 0:\n",
    "        print(\"Oh nooo! You lost...\")\n",
    "        break\n",
    "    question1 = input(\"What is the capital of Portugal ? \")\n",
    "\n",
    "if nb_de_chances > 0:\n",
    "    question2 = input(\"In which year the 2 WW was over ? \")\n",
    "    while question2 != \"1945\":\n",
    "        nb_de_chances -=1\n",
    "        print(\"Damm!! You have {} chances\".format(nb_de_chances))\n",
    "        if nb_de_chances == 0:\n",
    "            print(\"Oh nooo! You lost...\")\n",
    "            break\n",
    "        question2 = input(\"In which year the 2WW was over ? \")\n",
    "\n",
    "\n",
    "if nb_de_chances > 0:\n",
    "    question3 = input(\"tell me the decimal part of pi with first 4 digits ? \")\n",
    "    \n",
    "    while question3 != \"0.1415\":\n",
    "        nb_de_chances -=1\n",
    "        print(\"Damm!! You have {} chances\".format(nb_de_chances))\n",
    "        if nb_de_chances == 0:\n",
    "            print(\"Oh non ! Game over!!\")\n",
    "            break\n",
    "        question3 = input(\"tell me the decimal part of pi with first 4 digits ?  \")\n",
    "        \n",
    "\n",
    "if nb_de_chances > 0:\n",
    "    print(\"Bravo ! You won!!\")\n"
   ]
  },
  {
   "cell_type": "code",
   "execution_count": 1,
   "metadata": {},
   "outputs": [
    {
     "name": "stdout",
     "output_type": "stream",
     "text": [
      "What is the capital of Portugal?lisboa\n",
      "Damm. You have 2 chances left\n",
      "What is the capital of Portugal?Lisbon\n",
      "In which year did the 2WW ended ?1945\n",
      "Tell me the decimal part of pi with four gits please?19\n",
      "Damm. You have 1 chances left\n",
      "Tell me the decimal part of pi with four gits please?19\n",
      "Damm. You have 0 chances left\n",
      "Oh non ! Game over...\n"
     ]
    }
   ],
   "source": [
    "def ask_question(nb_attempts_left, question_sentence, right_answer):\n",
    "    if nb_attempts_left > 0:\n",
    "        answer = input(question_sentence)\n",
    "        answer = answer.lower()\n",
    "        while answer != right_answer:\n",
    "            nb_attempts_left -=1\n",
    "            print(\"Damm. You have {} chances left\".format(nb_attempts_left))\n",
    "            if nb_attempts_left == 0:\n",
    "                print(\"Oh non ! Game over...\")\n",
    "                break\n",
    "            answer = input(question_sentence)\n",
    "            answer = answer.lower()\n",
    "    return nb_attempts_left\n",
    "\n",
    "questions_answers_list = [\n",
    "    (\"What is the capital of Portugal?\", \"lisbon\"),\n",
    "    (\"In which year did the 2WW ended ?\", \"1945\"),\n",
    "    (\"Tell me the decimal part of pi with four gits please?\", 0.1415)\n",
    "]\n",
    "\n",
    "nb_attempts = 3\n",
    "\n",
    "for question, answer in questions_answers_list :\n",
    "    nb_attempts = ask_question(nb_attempts, question, answer)\n",
    "\n",
    "if nb_attempts > 0:\n",
    "    print(\"Bravo ! You won\")"
   ]
  },
  {
   "cell_type": "code",
   "execution_count": null,
   "metadata": {},
   "outputs": [],
   "source": []
  }
 ],
 "metadata": {
  "kernelspec": {
   "display_name": "Python 3",
   "language": "python",
   "name": "python3"
  },
  "language_info": {
   "codemirror_mode": {
    "name": "ipython",
    "version": 3
   },
   "file_extension": ".py",
   "mimetype": "text/x-python",
   "name": "python",
   "nbconvert_exporter": "python",
   "pygments_lexer": "ipython3",
   "version": "3.7.3"
  }
 },
 "nbformat": 4,
 "nbformat_minor": 2
}
